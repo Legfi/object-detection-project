{
 "cells": [
  {
   "attachments": {},
   "cell_type": "markdown",
   "metadata": {},
   "source": [
    "## The porpose of this notbook is to try to speed up the training prosses as we know that training SVC for this dataset would consume lots of our time. SVC() gave us about 97% if we come close to that accuracy but speed up the training process we have achived our goal with this notebook! Lets try...!"
   ]
  },
  {
   "cell_type": "code",
   "execution_count": 3,
   "metadata": {},
   "outputs": [],
   "source": [
    "# Importing libraries\n",
    "\n",
    "import numpy as np\n",
    "import pandas as pd\n",
    "import matplotlib.pyplot as plt\n",
    "%matplotlib inline\n",
    "import seaborn as sns\n",
    "sns.set_palette('husl')\n",
    "sns.set(style = \"darkgrid\")\n",
    "import warnings\n",
    "warnings.filterwarnings('ignore')\n",
    "from keras.preprocessing.image import ImageDataGenerator"
   ]
  },
  {
   "cell_type": "code",
   "execution_count": 4,
   "metadata": {},
   "outputs": [],
   "source": [
    "# Importing data and making train and test dataset\n",
    "\n",
    "from sklearn.datasets import fetch_openml\n",
    "import numpy as np\n",
    "mnist = fetch_openml('mnist_784', version=1, cache=True, as_frame=False)\n",
    "\n",
    "X = mnist[\"data\"]\n",
    "y = mnist[\"target\"].astype(np.uint8)\n",
    "\n",
    "X_train = X[:60000]\n",
    "y_train = y[:60000]\n",
    "X_test = X[60000:]\n",
    "y_test = y[60000:]"
   ]
  },
  {
   "cell_type": "code",
   "execution_count": 6,
   "metadata": {},
   "outputs": [],
   "source": [
    "# making data as panda data frame as it is easier for me to take a look at data\n",
    "X_train_df= pd.DataFrame(X_train)\n",
    "y_train_df = pd.DataFrame(y_train)\n",
    "X_test_df = pd.DataFrame(X_test)\n",
    "y_test_df = pd.DataFrame(y_test)"
   ]
  },
  {
   "attachments": {},
   "cell_type": "markdown",
   "metadata": {},
   "source": [
    "## EDA"
   ]
  },
  {
   "cell_type": "code",
   "execution_count": 7,
   "metadata": {},
   "outputs": [
    {
     "name": "stdout",
     "output_type": "stream",
     "text": [
      "the shape of X_df (60000, 784)\n",
      "the shape of x_test (10000, 784)\n",
      "the shape of y_df (60000, 1)\n",
      "the shape of sample (10000, 1)\n"
     ]
    }
   ],
   "source": [
    "def eda_data(X_df , X_test ,y_train_df, y_test_df):\n",
    "    print(\"the shape of X_df {}\".format(X_df.shape))\n",
    "    print(\"the shape of x_test {}\".format(X_test.shape))\n",
    "    print(\"the shape of y_df {}\".format(y_train_df.shape))\n",
    "    print(\"the shape of sample {}\".format(y_test_df.shape))\n",
    "eda_data(X_train_df , X_test_df ,y_train_df, y_test_df)"
   ]
  },
  {
   "cell_type": "code",
   "execution_count": 8,
   "metadata": {},
   "outputs": [
    {
     "data": {
      "text/plain": [
       "0    10\n",
       "dtype: int64"
      ]
     },
     "execution_count": 8,
     "metadata": {},
     "output_type": "execute_result"
    }
   ],
   "source": [
    "y_train_df.nunique()"
   ]
  },
  {
   "cell_type": "code",
   "execution_count": 9,
   "metadata": {},
   "outputs": [],
   "source": [
    "# Lets take a look att some photos\n",
    "def image_show(i, data, label):\n",
    "    x = data[i] # get the vectorized image\n",
    "    x = x.reshape((28,28)) # reshape it into 28x28 format\n",
    "    print('The image label of index %d is %d.' %(i, label[i]))\n",
    "    plt.imshow(x, cmap='gray') # show the image"
   ]
  },
  {
   "cell_type": "code",
   "execution_count": 10,
   "metadata": {},
   "outputs": [
    {
     "name": "stdout",
     "output_type": "stream",
     "text": [
      "The image label of index 50 is 3.\n"
     ]
    },
    {
     "data": {
      "image/png": "[encoded data removed]",
      "text/plain": [
       "<Figure size 640x480 with 1 Axes>"
      ]
     },
     "metadata": {},
     "output_type": "display_data"
    }
   ],
   "source": [
    "# Showing image from training set \n",
    "image_show(50, X_train, y_train)"
   ]
  },
  {
   "attachments": {},
   "cell_type": "markdown",
   "metadata": {},
   "source": [
    "## preprocessing"
   ]
  },
  {
   "cell_type": "code",
   "execution_count": 43,
   "metadata": {},
   "outputs": [],
   "source": [
    "# scaling data to make the training process more effective \n",
    "\n",
    "from sklearn.preprocessing import StandardScaler\n",
    "scaler = StandardScaler()\n",
    "X_train_scaled = scaler.fit_transform(X_train)\n",
    "X_test_scaled = scaler.transform(X_test)"
   ]
  },
  {
   "cell_type": "code",
   "execution_count": 8,
   "metadata": {},
   "outputs": [
    {
     "data": {
      "text/plain": [
       "PCA(n_components=0.95)"
      ]
     },
     "execution_count": 8,
     "metadata": {},
     "output_type": "execute_result"
    }
   ],
   "source": [
    "# appling PCA as I want to speed up the training process\n",
    "from sklearn.decomposition import PCA\n",
    "pca = PCA(.95)\n",
    "pca.fit(X_train_scaled)"
   ]
  },
  {
   "cell_type": "code",
   "execution_count": 9,
   "metadata": {},
   "outputs": [
    {
     "data": {
      "text/plain": [
       "331"
      ]
     },
     "execution_count": 9,
     "metadata": {},
     "output_type": "execute_result"
    }
   ],
   "source": [
    "pca.n_components_"
   ]
  },
  {
   "cell_type": "code",
   "execution_count": 10,
   "metadata": {},
   "outputs": [],
   "source": [
    "pca = PCA(n_components = 331)\n",
    "X_reduced_train = pca.fit_transform(X_train_scaled)\n",
    "X_reduced_test = pca.fit_transform(X_test_scaled)"
   ]
  },
  {
   "attachments": {},
   "cell_type": "markdown",
   "metadata": {},
   "source": [
    "## Data augmentation"
   ]
  },
  {
   "cell_type": "code",
   "execution_count": 11,
   "metadata": {},
   "outputs": [],
   "source": [
    "# Ading noise to photos becoase we want our model see even photos that dont have complitly black background(incase \n",
    "# users uppload images with diffrent background lights)\n",
    "noise = np.random.randint(0, 100, (len(X_train), 784))\n",
    "X_train_mod = X_train + noise\n",
    "noise = np.random.randint(0, 100, (len(X_test), 784))\n",
    "X_test_mod = X_test + noise"
   ]
  },
  {
   "cell_type": "code",
   "execution_count": 12,
   "metadata": {},
   "outputs": [],
   "source": [
    "# Adding noise dataset to original one\n",
    "\n",
    "X_total_train = np.concatenate((X_train_mod, X_train), axis=0)\n",
    "X_total_test = np.concatenate((X_train_mod, X_train), axis=0)\n",
    "y_total_train = np.concatenate((y_train, y_train), axis=0)\n",
    "y_total_test = np.concatenate((y_test, y_test), axis=0)"
   ]
  },
  {
   "cell_type": "code",
   "execution_count": 13,
   "metadata": {},
   "outputs": [
    {
     "data": {
      "text/plain": [
       "120000"
      ]
     },
     "execution_count": 13,
     "metadata": {},
     "output_type": "execute_result"
    }
   ],
   "source": [
    "len(y_total_train)"
   ]
  },
  {
   "cell_type": "code",
   "execution_count": 14,
   "metadata": {},
   "outputs": [
    {
     "name": "stdout",
     "output_type": "stream",
     "text": [
      "The image label of index 50 is 3.\n"
     ]
    },
    {
     "data": {
      "image/png": "[encoded data removed]",
      "text/plain": [
       "<Figure size 640x480 with 1 Axes>"
      ]
     },
     "metadata": {},
     "output_type": "display_data"
    }
   ],
   "source": [
    "# Showing image from trainning set \n",
    "image_show(50, X_train_mod, y_train)"
   ]
  },
  {
   "cell_type": "code",
   "execution_count": 15,
   "metadata": {},
   "outputs": [],
   "source": [
    "# Shifting images incase when users draw a digits narrow  \n",
    "\n",
    "from scipy.ndimage.interpolation import shift\n",
    "\n",
    "def shift_image(image, dx, dy):\n",
    "    image = image.reshape((28, 28))\n",
    "    shifted_image = shift(image, [dy, dx], cval=0, mode=\"constant\")\n",
    "    return shifted_image.reshape([-1])"
   ]
  },
  {
   "cell_type": "code",
   "execution_count": 14,
   "metadata": {},
   "outputs": [],
   "source": [
    "X_train_augmented = [image for image in X_total_train]\n",
    "y_train_augmented = [label for label in y_total_train]\n",
    "\n",
    "for dx, dy in ((1, 0), (-1, 0), (0, 1), (0, -1)):\n",
    "    for image, label in zip(X_total_train, y_total_train):\n",
    "        X_train_augmented.append(shift_image(image, dx, dy))\n",
    "        y_train_augmented.append(label)\n",
    "\n",
    "X_train_augmented = np.array(X_train_augmented)\n",
    "y_train_augmented = np.array(y_train_augmented)"
   ]
  },
  {
   "cell_type": "code",
   "execution_count": 15,
   "metadata": {},
   "outputs": [],
   "source": [
    "shuffle_idx = np.random.permutation(len(X_train_augmented))\n",
    "X_train_augmented = X_train_augmented[shuffle_idx]\n",
    "y_train_augmented = y_train_augmented[shuffle_idx]"
   ]
  },
  {
   "attachments": {},
   "cell_type": "markdown",
   "metadata": {},
   "source": [
    "## Model centric approches"
   ]
  },
  {
   "cell_type": "code",
   "execution_count": 14,
   "metadata": {},
   "outputs": [
    {
     "data": {
      "image/png": "[encoded data removed]",
      "text/plain": [
       "<Figure size 640x480 with 1 Axes>"
      ]
     },
     "metadata": {},
     "output_type": "display_data"
    }
   ],
   "source": [
    "# I know that other coworkers in our team tried SVC() and got reasenable result but they lost lots of time for training the model\n",
    "# We know that linearSVC() is much faster that SVC(kernel='Linear') so lets try if we get good result with that model but in shorter period of time\n",
    "\n",
    "from sklearn.model_selection import cross_val_score, KFold, train_test_split\n",
    "from sklearn.neighbors import KNeighborsClassifier\n",
    "from sklearn.linear_model import LogisticRegression\n",
    "from sklearn.ensemble import RandomForestClassifier\n",
    "from sklearn.svm import LinearSVC\n",
    "\n",
    "# A fast methot for finding out which model present better with the dataset (Without hyperparameter tuning)\n",
    "models = {\"Logreg\": LogisticRegression(), \"KNN\": KNeighborsClassifier(n_neighbors=10), \"R_F\" : RandomForestClassifier(), \"SVC\" : LinearSVC()}\n",
    "results = []\n",
    "for model in models.values():\n",
    "    kf = KFold(n_splits=5, random_state=42, shuffle=True)\n",
    "    cv_results = cross_val_score(model, X_train_augmented[:10000], y_train_augmented[:10000], cv=kf)\n",
    "    results.append(cv_results)\n",
    "plt.boxplot(results, labels=models.keys())\n",
    "plt.show()"
   ]
  },
  {
   "cell_type": "code",
   "execution_count": 49,
   "metadata": {},
   "outputs": [
    {
     "name": "stdout",
     "output_type": "stream",
     "text": [
      "Fitting 5 folds for each of 10 candidates, totalling 50 fits\n",
      "[CV 1/5] END .....C=0.1, loss=hinge, penalty=l2;, score=0.864 total time=  12.8s\n",
      "[CV 2/5] END .....C=0.1, loss=hinge, penalty=l2;, score=0.897 total time=  13.1s\n",
      "[CV 3/5] END .....C=0.1, loss=hinge, penalty=l2;, score=0.890 total time=  12.7s\n",
      "[CV 4/5] END .....C=0.1, loss=hinge, penalty=l2;, score=0.878 total time=  12.9s\n",
      "[CV 5/5] END .....C=0.1, loss=hinge, penalty=l2;, score=0.878 total time=  12.6s\n",
      "[CV 1/5] END .......C=200, loss=hinge, penalty=l1;, score=nan total time=   0.0s\n",
      "[CV 2/5] END .......C=200, loss=hinge, penalty=l1;, score=nan total time=   0.0s\n",
      "[CV 3/5] END .......C=200, loss=hinge, penalty=l1;, score=nan total time=   0.0s\n",
      "[CV 4/5] END .......C=200, loss=hinge, penalty=l1;, score=nan total time=   0.0s\n",
      "[CV 5/5] END .......C=200, loss=hinge, penalty=l1;, score=nan total time=   0.0s\n",
      "[CV 1/5] END .........C=1, loss=hinge, penalty=l1;, score=nan total time=   0.0s\n",
      "[CV 2/5] END .........C=1, loss=hinge, penalty=l1;, score=nan total time=   0.0s\n",
      "[CV 3/5] END .........C=1, loss=hinge, penalty=l1;, score=nan total time=   0.0s\n",
      "[CV 4/5] END .........C=1, loss=hinge, penalty=l1;, score=nan total time=   0.0s\n",
      "[CV 5/5] END .........C=1, loss=hinge, penalty=l1;, score=nan total time=   0.0s\n",
      "[CV 1/5] END .....C=300, loss=hinge, penalty=l2;, score=0.817 total time=  22.6s\n",
      "[CV 2/5] END .....C=300, loss=hinge, penalty=l2;, score=0.849 total time=  23.4s\n",
      "[CV 3/5] END .....C=300, loss=hinge, penalty=l2;, score=0.835 total time=  21.9s\n",
      "[CV 4/5] END .....C=300, loss=hinge, penalty=l2;, score=0.822 total time=  22.5s\n",
      "[CV 5/5] END .....C=300, loss=hinge, penalty=l2;, score=0.839 total time=  21.6s\n",
      "[CV 1/5] END .......C=1, loss=hinge, penalty=l2;, score=0.840 total time=  17.9s\n",
      "[CV 2/5] END .......C=1, loss=hinge, penalty=l2;, score=0.868 total time=  19.5s\n",
      "[CV 3/5] END .......C=1, loss=hinge, penalty=l2;, score=0.862 total time=  18.6s\n",
      "[CV 4/5] END .......C=1, loss=hinge, penalty=l2;, score=0.848 total time=  19.1s\n",
      "[CV 5/5] END .......C=1, loss=hinge, penalty=l2;, score=0.854 total time=  19.0s\n",
      "[CV 1/5] END C=0.1, loss=squared_hinge, penalty=l2;, score=0.859 total time=  22.0s\n",
      "[CV 2/5] END C=0.1, loss=squared_hinge, penalty=l2;, score=0.885 total time=  23.6s\n",
      "[CV 3/5] END C=0.1, loss=squared_hinge, penalty=l2;, score=0.878 total time=  22.6s\n",
      "[CV 4/5] END C=0.1, loss=squared_hinge, penalty=l2;, score=0.872 total time=  22.8s\n",
      "[CV 5/5] END C=0.1, loss=squared_hinge, penalty=l2;, score=0.877 total time=  22.2s\n",
      "[CV 1/5] END C=400, loss=squared_hinge, penalty=l1;, score=nan total time=   0.0s\n",
      "[CV 2/5] END C=400, loss=squared_hinge, penalty=l1;, score=nan total time=   0.0s\n",
      "[CV 3/5] END C=400, loss=squared_hinge, penalty=l1;, score=nan total time=   0.0s\n",
      "[CV 4/5] END C=400, loss=squared_hinge, penalty=l1;, score=nan total time=   0.0s\n",
      "[CV 5/5] END C=400, loss=squared_hinge, penalty=l1;, score=nan total time=   0.0s\n",
      "[CV 1/5] END .......C=100, loss=hinge, penalty=l1;, score=nan total time=   0.0s\n",
      "[CV 2/5] END .......C=100, loss=hinge, penalty=l1;, score=nan total time=   0.0s\n",
      "[CV 3/5] END .......C=100, loss=hinge, penalty=l1;, score=nan total time=   0.0s\n",
      "[CV 4/5] END .......C=100, loss=hinge, penalty=l1;, score=nan total time=   0.0s\n",
      "[CV 5/5] END .......C=100, loss=hinge, penalty=l1;, score=nan total time=   0.0s\n",
      "[CV 1/5] END C=300, loss=squared_hinge, penalty=l2;, score=0.812 total time=  22.0s\n",
      "[CV 2/5] END C=300, loss=squared_hinge, penalty=l2;, score=0.851 total time=  23.8s\n",
      "[CV 3/5] END C=300, loss=squared_hinge, penalty=l2;, score=0.830 total time=  22.2s\n",
      "[CV 4/5] END C=300, loss=squared_hinge, penalty=l2;, score=0.821 total time=  22.8s\n",
      "[CV 5/5] END C=300, loss=squared_hinge, penalty=l2;, score=0.835 total time=  21.9s\n",
      "[CV 1/5] END C=0.1, loss=squared_hinge, penalty=l1;, score=nan total time=   0.0s\n",
      "[CV 2/5] END C=0.1, loss=squared_hinge, penalty=l1;, score=nan total time=   0.0s\n",
      "[CV 3/5] END C=0.1, loss=squared_hinge, penalty=l1;, score=nan total time=   0.0s\n",
      "[CV 4/5] END C=0.1, loss=squared_hinge, penalty=l1;, score=nan total time=   0.0s\n",
      "[CV 5/5] END C=0.1, loss=squared_hinge, penalty=l1;, score=nan total time=   0.0s\n",
      "Tuned Hyperparameters : {'penalty': 'l2', 'loss': 'hinge', 'C': 0.1}\n",
      "Accuracy : 0.8815\n"
     ]
    }
   ],
   "source": [
    "from sklearn.model_selection import GridSearchCV,RandomizedSearchCV\n",
    "from sklearn.svm import LinearSVC\n",
    "# defining parameter range\n",
    "param_grid = {'penalty': ['l1', 'l2'], \n",
    "              'loss': ['hinge', 'squared_hinge'],\n",
    "              'C': [0.1, 1, 10, 100, 200, 300, 400]} \n",
    "  \n",
    "grid = RandomizedSearchCV(LinearSVC(), param_distributions=param_grid, n_iter=10, verbose=3, cv=5)\n",
    "  \n",
    "# fitting the model for grid search\n",
    "grid.fit(X_train_scaled[:10000], y_train[:10000])\n",
    "print(\"Tuned Hyperparameters :\", grid.best_params_)\n",
    "print(\"Accuracy :\",grid.best_score_)"
   ]
  },
  {
   "attachments": {},
   "cell_type": "markdown",
   "metadata": {},
   "source": [
    "## LinearSVC() was much faster to train as I applied standard scaler and PCA methods but unfortunately the result was not pleasable! But in my test with diffrent models KNN present and intresting result.Very fast and easy algorithm. Let's give it a shot!"
   ]
  },
  {
   "attachments": {},
   "cell_type": "markdown",
   "metadata": {},
   "source": [
    "## KNN"
   ]
  },
  {
   "cell_type": "code",
   "execution_count": 39,
   "metadata": {},
   "outputs": [],
   "source": [
    "from sklearn.pipeline import Pipeline\n",
    "from sklearn.preprocessing import StandardScaler\n",
    "from sklearn.model_selection import GridSearchCV,RandomizedSearchCV\n",
    "from sklearn.neighbors import KNeighborsClassifier\n",
    "# Define a pipeline to scale the data and fit a KNN model\n",
    "pipeline = Pipeline([\n",
    "    ('scaler', StandardScaler()),\n",
    "    ('knn', KNeighborsClassifier())\n",
    "])"
   ]
  },
  {
   "cell_type": "code",
   "execution_count": null,
   "metadata": {},
   "outputs": [],
   "source": [
    "# Here we use this method to find best values of k and visualise it\n",
    "\n",
    "from sklearn.neighbors import KNeighborsClassifier\n",
    "error_rate = []\n",
    "for i in range(1,10):\n",
    "    \n",
    "    knn = KNeighborsClassifier(n_neighbors=i)\n",
    "    knn.fit(X_total_train,y_total_train)\n",
    "    pred_i = knn.predict(X_total_test)\n",
    "    error_rate.append(np.mean(pred_i != y_test))"
   ]
  },
  {
   "cell_type": "code",
   "execution_count": 47,
   "metadata": {},
   "outputs": [
    {
     "data": {
      "text/plain": [
       "Text(0, 0.5, 'Error Rate')"
      ]
     },
     "execution_count": 47,
     "metadata": {},
     "output_type": "execute_result"
    },
    {
     "data": {
      "image/png": "[encoded data removed]",
      "text/plain": [
       "<Figure size 1000x600 with 1 Axes>"
      ]
     },
     "metadata": {},
     "output_type": "display_data"
    }
   ],
   "source": [
    "plt.figure(figsize=(10,6))\n",
    "plt.plot(range(1,10),error_rate,color='blue', linestyle='dashed', marker='o',\n",
    "         markerfacecolor='red', markersize=5)\n",
    "plt.title('Error Rate vs. K Value')\n",
    "plt.xlabel('K')\n",
    "plt.ylabel('Error Rate')"
   ]
  },
  {
   "cell_type": "code",
   "execution_count": 50,
   "metadata": {},
   "outputs": [
    {
     "name": "stdout",
     "output_type": "stream",
     "text": [
      "Fitting 5 folds for each of 42 candidates, totalling 210 fits\n"
     ]
    }
   ],
   "source": [
    "# defining parameter range\n",
    "param_grid = { 'n_neighbors' : [3,5,7,9,11,13,15],\n",
    "               'weights' : ['uniform','distance'],\n",
    "               'metric' : ['minkowski','euclidean','manhattan']} \n",
    "  \n",
    "grid = GridSearchCV(KNeighborsClassifier(), param_grid, verbose = 1, cv=5, n_jobs = -1)\n",
    "  \n",
    "# fitting the model for grid search\n",
    "grid.fit(X_total_train[:10000], y_total_train)\n",
    "print(\"Tuned Hyperparameters :\", grid.best_params_)\n",
    "print(\"Accuracy :\",grid.best_score_)"
   ]
  },
  {
   "cell_type": "code",
   "execution_count": 56,
   "metadata": {},
   "outputs": [
    {
     "name": "stdout",
     "output_type": "stream",
     "text": [
      "              precision    recall  f1-score   support\n",
      "\n",
      "           0       0.97      0.99      0.98       980\n",
      "           1       0.96      1.00      0.98      1135\n",
      "           2       0.98      0.97      0.97      1032\n",
      "           3       0.96      0.97      0.96      1010\n",
      "           4       0.98      0.97      0.97       982\n",
      "           5       0.97      0.96      0.96       892\n",
      "           6       0.98      0.99      0.98       958\n",
      "           7       0.96      0.96      0.96      1028\n",
      "           8       0.99      0.94      0.96       974\n",
      "           9       0.96      0.96      0.96      1009\n",
      "\n",
      "    accuracy                           0.97     10000\n",
      "   macro avg       0.97      0.97      0.97     10000\n",
      "weighted avg       0.97      0.97      0.97     10000\n",
      "\n"
     ]
    }
   ],
   "source": [
    "from sklearn.metrics import classification_report, confusion_matrix\n",
    "golden_model = grid.best_estimator_\n",
    "y_pred = golden_model.predict(X_test)\n",
    "print(classification_report(y_test, y_pred))"
   ]
  },
  {
   "cell_type": "code",
   "execution_count": 17,
   "metadata": {},
   "outputs": [
    {
     "data": {
      "text/plain": [
       "KNeighborsClassifier(metric='manhattan', n_neighbors=3, weights='distance')"
      ]
     },
     "execution_count": 17,
     "metadata": {},
     "output_type": "execute_result"
    }
   ],
   "source": [
    "from sklearn.neighbors import KNeighborsClassifier\n",
    "\n",
    "knn = KNeighborsClassifier(n_neighbors=3, metric='manhattan', weights='distance')\n",
    "knn.fit(X_total_train, y_total_train)"
   ]
  },
  {
   "cell_type": "code",
   "execution_count": 18,
   "metadata": {},
   "outputs": [
    {
     "data": {
      "text/plain": [
       "KNeighborsClassifier(n_neighbors=3)"
      ]
     },
     "execution_count": 18,
     "metadata": {},
     "output_type": "execute_result"
    }
   ],
   "source": [
    "from sklearn.neighbors import KNeighborsClassifier\n",
    "\n",
    "knn = KNeighborsClassifier(n_neighbors=3)\n",
    "knn.fit(X_total_train, y_total_train)"
   ]
  },
  {
   "cell_type": "code",
   "execution_count": 19,
   "metadata": {},
   "outputs": [
    {
     "data": {
      "text/plain": [
       "0.9684"
      ]
     },
     "execution_count": 19,
     "metadata": {},
     "output_type": "execute_result"
    }
   ],
   "source": [
    "# testing how model predict noisi images\n",
    "\n",
    "from sklearn.metrics import accuracy_score\n",
    "\n",
    "y_pred = knn.predict(X_test_mod)\n",
    "accuracy = accuracy_score(y_test, y_pred)\n",
    "\n",
    "accuracy"
   ]
  },
  {
   "cell_type": "code",
   "execution_count": 20,
   "metadata": {},
   "outputs": [
    {
     "data": {
      "text/plain": [
       "0.9705"
      ]
     },
     "execution_count": 20,
     "metadata": {},
     "output_type": "execute_result"
    }
   ],
   "source": [
    "# testing how model original mnist images\n",
    "\n",
    "from sklearn.metrics import accuracy_score\n",
    "\n",
    "y_pred = knn.predict(X_test)\n",
    "accuracy = accuracy_score(y_test, y_pred)\n",
    "\n",
    "accuracy"
   ]
  },
  {
   "cell_type": "code",
   "execution_count": 26,
   "metadata": {},
   "outputs": [
    {
     "name": "stdout",
     "output_type": "stream",
     "text": [
      "Predicted digit:  6\n"
     ]
    }
   ],
   "source": [
    "test = knn.predict([X_test_mod[50]])\n",
    "print(\"Predicted digit: \", test[0])"
   ]
  },
  {
   "cell_type": "code",
   "execution_count": 24,
   "metadata": {},
   "outputs": [
    {
     "name": "stdout",
     "output_type": "stream",
     "text": [
      "The image label of index 50 is 6.\n"
     ]
    },
    {
     "data": {
      "image/png": "[encoded data removed]",
      "text/plain": [
       "<Figure size 640x480 with 1 Axes>"
      ]
     },
     "metadata": {},
     "output_type": "display_data"
    }
   ],
   "source": [
    "# Showing image from trainning set \n",
    "image_show(50, X_test_mod, y_test)"
   ]
  },
  {
   "attachments": {},
   "cell_type": "markdown",
   "metadata": {},
   "source": [
    "## As we see model KNN was the golden model for this dataset and the training speed is not comparible to LinearSVC() model which is one of fast support vector machines models to train "
   ]
  },
  {
   "cell_type": "code",
   "execution_count": null,
   "metadata": {},
   "outputs": [],
   "source": [
    "# Saving the model \n",
    "\n",
    "import pickle\n",
    "filename = 'poc_final.sav'\n",
    "pickle.dump(knn, open(filename, 'wb'))"
   ]
  }
 ],
 "metadata": {
  "kernelspec": {
   "display_name": "ml",
   "language": "python",
   "name": "python3"
  },
  "language_info": {
   "codemirror_mode": {
    "name": "ipython",
    "version": 3
   },
   "file_extension": ".py",
   "mimetype": "text/x-python",
   "name": "python",
   "nbconvert_exporter": "python",
   "pygments_lexer": "ipython3",
   "version": "3.9.7"
  },
  "orig_nbformat": 4,
  "vscode": {
   "interpreter": {
    "hash": "c44adee50ff75992933a8acf2950bd7ff215ebd14d0d83610c4f30e23dd7ddac"
   }
  }
 },
 "nbformat": 4,
 "nbformat_minor": 2
}
